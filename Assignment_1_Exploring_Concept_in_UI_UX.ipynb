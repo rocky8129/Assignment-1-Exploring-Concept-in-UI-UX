{
  "nbformat": 4,
  "nbformat_minor": 0,
  "metadata": {
    "colab": {
      "provenance": []
    },
    "kernelspec": {
      "name": "python3",
      "display_name": "Python 3"
    },
    "language_info": {
      "name": "python"
    }
  },
  "cells": [
    {
      "cell_type": "markdown",
      "source": [
        "ASSIGNMENT 1"
      ],
      "metadata": {
        "id": "X-uajgJCXzB3"
      }
    },
    {
      "cell_type": "markdown",
      "source": [
        "Q1. What is the significance of user-centered design in UI/UX?\n",
        "  -  The user-centered design process involves understanding users needs, design solutions and their contexts.\n",
        "  \n",
        "   **SIGNIFICANCES:-**\n",
        "  \n",
        "\n",
        "1.   make intuitive interface\n",
        "2. understand user problems\n",
        "3. create clean ui design\n",
        "4. make good ux for easy understand peoples\n",
        "5. Track user behavior and improve continuously\n",
        "\n"
      ],
      "metadata": {
        "id": "MDGioHHOX8OQ"
      }
    },
    {
      "cell_type": "markdown",
      "source": [
        "Q2. How do wireframes contribute to the UI/UX design process?\n",
        "  - Wireframe is just like blueprint of UI/UX in this we mainly used sketch\n",
        "  1. in this we make low-fidelity layout or sketches\n",
        "  2. how user move from one screen to other screen\n",
        "  3. where buttons are placed\n",
        "  4. how the information is organised and how it will be seen\n",
        "  5. it saves time and make good ui/ux design"
      ],
      "metadata": {
        "id": "HJaMXvnYetDP"
      }
    },
    {
      "cell_type": "markdown",
      "source": [
        "Q3. Explain the role of usability testing in improving user experience?\n",
        "- Usability testing plays an important role in improving user experience\n",
        "1. check the problems at early stage\n",
        "2. you learn where the people confuse and where they lack\n",
        "3. minimise the steps which make the user attraction on good side\n",
        "4. improvement in design time to time make more attractive and well structured\n",
        "5. real - time feedback make you more desperate in your work"
      ],
      "metadata": {
        "id": "251W4p1kgy93"
      }
    },
    {
      "cell_type": "markdown",
      "source": [
        "Q4. Discuss the importance of accessibility in UI/UX design?\n",
        "- Accessibility in ui/ux design means the product or service is used by all the people including disable persons.\n",
        "- Good accessibility means clear buttons with readable fonts which helps to all the users easy to understand\n",
        "- show that your product or service care of all the users which help to attract more people more business more profit\n",
        "- Make smart ui/ux which help stronger, wider-reaching and ready for future"
      ],
      "metadata": {
        "id": "h-dRT8PfjlxP"
      }
    },
    {
      "cell_type": "markdown",
      "source": [
        "Q5. What are the key principles of effective visual design in UI/UX?\n",
        "- Effective visual designs make the people memorable\n",
        "\n",
        "   ***PRINCIPLES:-***\n",
        "  - HIERARCHY - good size, color, boldness helps users see content easily\n",
        "  - Good contrast between text and background make better visibility\n",
        "  - Good alignment well structured buttons show professional product\n",
        "  - closely placed labels with input-fields helps users mentally organize content\n",
        "  - build same fonts, color, button style which never confuse users\n",
        "  - put white space between text, cards, buttons  helps focus attention and improves readability\n",
        "  - make proper size according to hierarchy h1,h2 use for heading and body\n",
        "  -  use primary, secondary amd tertiary color for intuitive design\n",
        "  - put the screen simple and clean for smooth ux\n",
        " - real - time feedback make you more desperate in your work"
      ],
      "metadata": {
        "id": "BTRdECm4mMrY"
      }
    },
    {
      "cell_type": "markdown",
      "source": [
        "Q6. How do personas influence the design decisions in UI/UX projects?\n",
        " - personas are the real users who uses or test the product and put the feedback on the product that is good or where it is lack.\n",
        " - personas helps the designers for which feature should we focused first\n",
        " - according to age the fonts, color, size be used\n",
        " - clear directions for ui/ux designers for solve the problem\n",
        " - personas tell that the screens are connected with each other or not\n",
        " - personas are the right test users who solve the problems"
      ],
      "metadata": {
        "id": "S002fLYbrNtW"
      }
    }
  ]
}